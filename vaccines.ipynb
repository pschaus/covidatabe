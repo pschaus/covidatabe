{
 "cells": [
  {
   "cell_type": "code",
   "execution_count": null,
   "metadata": {},
   "outputs": [],
   "source": [
    "import json\n",
    "import pandas as pd\n",
    "import plotly.express as px\n",
    "\n",
    "import numpy as np\n",
    "\n",
    "import pandas as pd\n",
    "import plotly.graph_objs as go\n",
    "import plotly.express as px\n",
    "from flask_babel import gettext\n",
    "from plotly.subplots import make_subplots\n",
    "from scipy import stats\n",
    "import numpy as np\n",
    "import math\n",
    "from datetime import datetime, date, timedelta\n",
    "\n",
    "\n",
    "df_vaccines = pd.read_csv('static/csv/be-covid-vaccines.csv')\n",
    "\n",
    "df_vaccines = df_vaccines.groupby(['DATE','REGION','DOSE']).agg({'COUNT':'sum'}).reset_index()\n",
    "df_vaccines.columns = df_vaccines.columns.get_level_values(0)\n",
    "\n"
   ]
  },
  {
   "cell_type": "markdown",
   "metadata": {},
   "source": [
    "# Doses Belgium"
   ]
  },
  {
   "cell_type": "code",
   "execution_count": null,
   "metadata": {
    "scrolled": false
   },
   "outputs": [],
   "source": [
    "def cumulated_doses(region):\n",
    "    df = df_vaccines\n",
    "    if region != 'All':\n",
    "        df = df_vaccines[df_vaccines.REGION==region]\n",
    "    fig = px.bar(df, x=\"DATE\", y=\"COUNT\", color=\"DOSE\",color_discrete_map={'A':'#d7191c',\n",
    "                                 'B':'#fdae61',\n",
    "                                 'C':'#a6d96a',\n",
    "                                 'E':'#1a9641'})\n",
    "\n",
    "    # Edit the layout\n",
    "    fig.update_layout(title=\"Total Daily Dose Injections in \"+region,\n",
    "                      xaxis_title='Date',\n",
    "                      yaxis_title='Dose')\n",
    "    fig.update_layout(template=\"plotly_white\")\n",
    "    return fig\n",
    "cumulated_doses(\"All\").show()\n",
    "cumulated_doses(\"Brussels\").show()\n",
    "cumulated_doses(\"Wallonia\").show()\n",
    "cumulated_doses(\"Flanders\").show()"
   ]
  },
  {
   "cell_type": "code",
   "execution_count": null,
   "metadata": {},
   "outputs": [],
   "source": [
    "# source: statbel\n",
    "pop = {\n",
    "    \"Belgium\": 11492641 - 945889 - 989782,\n",
    "    \"Wallonia\": 3645243 - 303612 - 317262,\n",
    "    \"Flanders\": 6629143 - 526108 - 551110,\n",
    "    \"Brussels\": 1218255 - 116169 - 121410\n",
    "}\n",
    "\n",
    "def time_remaining(region):\n",
    "    df = df_vaccines\n",
    "    if region != 'Belgium':\n",
    "        df = df_vaccines[df_vaccines.REGION==region]\n",
    "    else:\n",
    "        df = df_vaccines.groupby([\"DATE\", \"DOSE\"]).sum().reset_index()\n",
    "    df = df[df.DOSE == \"A\"].copy()\n",
    "    df['AVG COUNT'] = df.rolling(7, center=True).mean()\n",
    "    df['CUMSUM'] = df['COUNT'].cumsum()\n",
    "    df['REMAINING'] = -df['CUMSUM'] + pop[region]\n",
    "    df['TIME_NEEDED'] = df['REMAINING'] / df['AVG COUNT']\n",
    "    fig = px.line(df[df.DATE > \"2021-03-01\"], x=\"DATE\", y=\"TIME_NEEDED\",\n",
    "                  labels={\n",
    "                         \"DATE\": \"Date\",\n",
    "                         \"TIME_NEEDED\": \"Days\"\n",
    "                     },\n",
    "                    title=f\"Days needed to vaccinate all the yet unvaccinated population (> 14y)<br>if the number of dose/day stays the same ({region})\")\n",
    "    return fig\n",
    "time_remaining(\"Belgium\").show()\n",
    "time_remaining(\"Brussels\").show()\n",
    "time_remaining(\"Wallonia\").show()\n",
    "time_remaining(\"Flanders\").show()"
   ]
  },
  {
   "cell_type": "code",
   "execution_count": null,
   "metadata": {},
   "outputs": [],
   "source": []
  },
  {
   "cell_type": "code",
   "execution_count": null,
   "metadata": {},
   "outputs": [],
   "source": []
  }
 ],
 "metadata": {
  "kernelspec": {
   "display_name": "Python 3",
   "language": "python",
   "name": "python3"
  },
  "language_info": {
   "codemirror_mode": {
    "name": "ipython",
    "version": 3
   },
   "file_extension": ".py",
   "mimetype": "text/x-python",
   "name": "python",
   "nbconvert_exporter": "python",
   "pygments_lexer": "ipython3",
   "version": "3.8.6"
  }
 },
 "nbformat": 4,
 "nbformat_minor": 4
}
